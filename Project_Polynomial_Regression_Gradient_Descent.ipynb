{
  "nbformat": 4,
  "nbformat_minor": 0,
  "metadata": {
    "colab": {
      "provenance": []
    },
    "kernelspec": {
      "name": "python3",
      "display_name": "Python 3"
    },
    "language_info": {
      "name": "python"
    }
  },
  "cells": [
    {
      "cell_type": "code",
      "execution_count": null,
      "metadata": {
        "id": "A8FAGK_D0TXF"
      },
      "outputs": [],
      "source": [
        "import numpy as np\n",
        "import matplotlib.pyplot as plt\n",
        "import pandas as pd"
      ]
    },
    {
      "cell_type": "code",
      "source": [
        "def generate_polynomial_features(X, degree):\n",
        "    m, n = X.shape\n",
        "    X_poly = np.ones((m, 1))  # Include bias term\n",
        "\n",
        "    for d in range(1, degree + 1):\n",
        "        for i in range(n):\n",
        "           # Include individual powers\n",
        "            X_poly = np.c_[X_poly, X[:, i]**d]\n",
        "\n",
        "            # Include cross-terms\n",
        "            for j in range(i + 1, n):\n",
        "                X_poly = np.c_[X_poly, X[:, i]**d * X[:, j]**d]\n",
        "\n",
        "            # Include mixed powers\n",
        "            for j in range(i + 1, n):\n",
        "                X_poly = np.c_[X_poly, X[:, i]**d * X[:, j]**(d-1)]\n",
        "                X_poly = np.c_[X_poly, X[:, j]**d * X[:, i]**(d-1)]\n",
        "\n",
        "\n",
        "\n",
        "    return X_poly"
      ],
      "metadata": {
        "id": "BC6x4ban0f_K"
      },
      "execution_count": null,
      "outputs": []
    },
    {
      "cell_type": "code",
      "source": [
        "def multiple_variable_polynomial_regresssion(X,y,degree,alpha,num_iterations):\n",
        "  # Performs multiple variable polynomial regression using gradient descent\n",
        "  m,n=X.shape\n",
        "  theta=np.zeros((X.shape[1],1))\n",
        "  for iteration in range(num_iterations):\n",
        "    error=X@theta-y\n",
        "    gradients=(X.T@error)/m\n",
        "    theta=theta-alpha*gradients\n",
        "\n",
        "    #Print error every 100 iterations\n",
        "    if iteration%100==0:\n",
        "      cost=np.sum(error**2)/(2*m) #Mean Squared Error\n",
        "      print(f\"Iteration {iteration}, Error: {cost}\")\n",
        "  return theta"
      ],
      "metadata": {
        "id": "7MvzI46K0ju-"
      },
      "execution_count": null,
      "outputs": []
    },
    {
      "cell_type": "code",
      "source": [
        "def r_sqaured(y_true,y_pred):\n",
        "  #Compute R-sqaured score\n",
        "  ss_total=np.sum((y_true-np.mean(y_true))**2)\n",
        "  ss_residual=np.sum((y_true-y_pred)**2)\n",
        "  r2=1-(ss_residual/ss_total)\n",
        "  return r2"
      ],
      "metadata": {
        "id": "UjR1iNn_NQx9"
      },
      "execution_count": null,
      "outputs": []
    },
    {
      "cell_type": "code",
      "source": [
        "df=pd.read_csv('/content/sample_data/Polynomialdata_train.csv')\n",
        "df"
      ],
      "metadata": {
        "colab": {
          "base_uri": "https://localhost:8080/",
          "height": 423
        },
        "id": "sLGpADCZ0nFZ",
        "outputId": "2ee14a1d-102c-4654-9df0-5bc460812c69"
      },
      "execution_count": null,
      "outputs": [
        {
          "output_type": "execute_result",
          "data": {
            "text/plain": [
              "             target  feature 1  feature 2  feature 3\n",
              "0      4.131528e+06   5.221849   7.295111  95.716846\n",
              "1      3.172975e-01  -5.106284   4.220085  -6.172360\n",
              "2      4.676422e+04  -4.218053  -7.573823 -39.493884\n",
              "3      1.404175e+05 -18.439122  -2.275148 -40.885857\n",
              "4      4.788988e+03  13.353046   3.103837  18.622367\n",
              "...             ...        ...        ...        ...\n",
              "49995  1.853922e+04 -25.309264  -6.094516  75.361431\n",
              "49996  6.379917e+03 -58.016982  -6.064214  27.146387\n",
              "49997  3.835601e+06  29.857894   1.422973  75.620505\n",
              "49998  2.580318e+04  10.793146   1.215972  34.437761\n",
              "49999  3.468171e+05  12.171702  -0.798756  60.245990\n",
              "\n",
              "[50000 rows x 4 columns]"
            ],
            "text/html": [
              "\n",
              "  <div id=\"df-276a64bb-86ce-466f-b6d7-945b1392b7e7\" class=\"colab-df-container\">\n",
              "    <div>\n",
              "<style scoped>\n",
              "    .dataframe tbody tr th:only-of-type {\n",
              "        vertical-align: middle;\n",
              "    }\n",
              "\n",
              "    .dataframe tbody tr th {\n",
              "        vertical-align: top;\n",
              "    }\n",
              "\n",
              "    .dataframe thead th {\n",
              "        text-align: right;\n",
              "    }\n",
              "</style>\n",
              "<table border=\"1\" class=\"dataframe\">\n",
              "  <thead>\n",
              "    <tr style=\"text-align: right;\">\n",
              "      <th></th>\n",
              "      <th>target</th>\n",
              "      <th>feature 1</th>\n",
              "      <th>feature 2</th>\n",
              "      <th>feature 3</th>\n",
              "    </tr>\n",
              "  </thead>\n",
              "  <tbody>\n",
              "    <tr>\n",
              "      <th>0</th>\n",
              "      <td>4.131528e+06</td>\n",
              "      <td>5.221849</td>\n",
              "      <td>7.295111</td>\n",
              "      <td>95.716846</td>\n",
              "    </tr>\n",
              "    <tr>\n",
              "      <th>1</th>\n",
              "      <td>3.172975e-01</td>\n",
              "      <td>-5.106284</td>\n",
              "      <td>4.220085</td>\n",
              "      <td>-6.172360</td>\n",
              "    </tr>\n",
              "    <tr>\n",
              "      <th>2</th>\n",
              "      <td>4.676422e+04</td>\n",
              "      <td>-4.218053</td>\n",
              "      <td>-7.573823</td>\n",
              "      <td>-39.493884</td>\n",
              "    </tr>\n",
              "    <tr>\n",
              "      <th>3</th>\n",
              "      <td>1.404175e+05</td>\n",
              "      <td>-18.439122</td>\n",
              "      <td>-2.275148</td>\n",
              "      <td>-40.885857</td>\n",
              "    </tr>\n",
              "    <tr>\n",
              "      <th>4</th>\n",
              "      <td>4.788988e+03</td>\n",
              "      <td>13.353046</td>\n",
              "      <td>3.103837</td>\n",
              "      <td>18.622367</td>\n",
              "    </tr>\n",
              "    <tr>\n",
              "      <th>...</th>\n",
              "      <td>...</td>\n",
              "      <td>...</td>\n",
              "      <td>...</td>\n",
              "      <td>...</td>\n",
              "    </tr>\n",
              "    <tr>\n",
              "      <th>49995</th>\n",
              "      <td>1.853922e+04</td>\n",
              "      <td>-25.309264</td>\n",
              "      <td>-6.094516</td>\n",
              "      <td>75.361431</td>\n",
              "    </tr>\n",
              "    <tr>\n",
              "      <th>49996</th>\n",
              "      <td>6.379917e+03</td>\n",
              "      <td>-58.016982</td>\n",
              "      <td>-6.064214</td>\n",
              "      <td>27.146387</td>\n",
              "    </tr>\n",
              "    <tr>\n",
              "      <th>49997</th>\n",
              "      <td>3.835601e+06</td>\n",
              "      <td>29.857894</td>\n",
              "      <td>1.422973</td>\n",
              "      <td>75.620505</td>\n",
              "    </tr>\n",
              "    <tr>\n",
              "      <th>49998</th>\n",
              "      <td>2.580318e+04</td>\n",
              "      <td>10.793146</td>\n",
              "      <td>1.215972</td>\n",
              "      <td>34.437761</td>\n",
              "    </tr>\n",
              "    <tr>\n",
              "      <th>49999</th>\n",
              "      <td>3.468171e+05</td>\n",
              "      <td>12.171702</td>\n",
              "      <td>-0.798756</td>\n",
              "      <td>60.245990</td>\n",
              "    </tr>\n",
              "  </tbody>\n",
              "</table>\n",
              "<p>50000 rows × 4 columns</p>\n",
              "</div>\n",
              "    <div class=\"colab-df-buttons\">\n",
              "\n",
              "  <div class=\"colab-df-container\">\n",
              "    <button class=\"colab-df-convert\" onclick=\"convertToInteractive('df-276a64bb-86ce-466f-b6d7-945b1392b7e7')\"\n",
              "            title=\"Convert this dataframe to an interactive table.\"\n",
              "            style=\"display:none;\">\n",
              "\n",
              "  <svg xmlns=\"http://www.w3.org/2000/svg\" height=\"24px\" viewBox=\"0 -960 960 960\">\n",
              "    <path d=\"M120-120v-720h720v720H120Zm60-500h600v-160H180v160Zm220 220h160v-160H400v160Zm0 220h160v-160H400v160ZM180-400h160v-160H180v160Zm440 0h160v-160H620v160ZM180-180h160v-160H180v160Zm440 0h160v-160H620v160Z\"/>\n",
              "  </svg>\n",
              "    </button>\n",
              "\n",
              "  <style>\n",
              "    .colab-df-container {\n",
              "      display:flex;\n",
              "      gap: 12px;\n",
              "    }\n",
              "\n",
              "    .colab-df-convert {\n",
              "      background-color: #E8F0FE;\n",
              "      border: none;\n",
              "      border-radius: 50%;\n",
              "      cursor: pointer;\n",
              "      display: none;\n",
              "      fill: #1967D2;\n",
              "      height: 32px;\n",
              "      padding: 0 0 0 0;\n",
              "      width: 32px;\n",
              "    }\n",
              "\n",
              "    .colab-df-convert:hover {\n",
              "      background-color: #E2EBFA;\n",
              "      box-shadow: 0px 1px 2px rgba(60, 64, 67, 0.3), 0px 1px 3px 1px rgba(60, 64, 67, 0.15);\n",
              "      fill: #174EA6;\n",
              "    }\n",
              "\n",
              "    .colab-df-buttons div {\n",
              "      margin-bottom: 4px;\n",
              "    }\n",
              "\n",
              "    [theme=dark] .colab-df-convert {\n",
              "      background-color: #3B4455;\n",
              "      fill: #D2E3FC;\n",
              "    }\n",
              "\n",
              "    [theme=dark] .colab-df-convert:hover {\n",
              "      background-color: #434B5C;\n",
              "      box-shadow: 0px 1px 3px 1px rgba(0, 0, 0, 0.15);\n",
              "      filter: drop-shadow(0px 1px 2px rgba(0, 0, 0, 0.3));\n",
              "      fill: #FFFFFF;\n",
              "    }\n",
              "  </style>\n",
              "\n",
              "    <script>\n",
              "      const buttonEl =\n",
              "        document.querySelector('#df-276a64bb-86ce-466f-b6d7-945b1392b7e7 button.colab-df-convert');\n",
              "      buttonEl.style.display =\n",
              "        google.colab.kernel.accessAllowed ? 'block' : 'none';\n",
              "\n",
              "      async function convertToInteractive(key) {\n",
              "        const element = document.querySelector('#df-276a64bb-86ce-466f-b6d7-945b1392b7e7');\n",
              "        const dataTable =\n",
              "          await google.colab.kernel.invokeFunction('convertToInteractive',\n",
              "                                                    [key], {});\n",
              "        if (!dataTable) return;\n",
              "\n",
              "        const docLinkHtml = 'Like what you see? Visit the ' +\n",
              "          '<a target=\"_blank\" href=https://colab.research.google.com/notebooks/data_table.ipynb>data table notebook</a>'\n",
              "          + ' to learn more about interactive tables.';\n",
              "        element.innerHTML = '';\n",
              "        dataTable['output_type'] = 'display_data';\n",
              "        await google.colab.output.renderOutput(dataTable, element);\n",
              "        const docLink = document.createElement('div');\n",
              "        docLink.innerHTML = docLinkHtml;\n",
              "        element.appendChild(docLink);\n",
              "      }\n",
              "    </script>\n",
              "  </div>\n",
              "\n",
              "\n",
              "<div id=\"df-cf1a0e99-00f9-4859-bb33-8d4a7961207b\">\n",
              "  <button class=\"colab-df-quickchart\" onclick=\"quickchart('df-cf1a0e99-00f9-4859-bb33-8d4a7961207b')\"\n",
              "            title=\"Suggest charts\"\n",
              "            style=\"display:none;\">\n",
              "\n",
              "<svg xmlns=\"http://www.w3.org/2000/svg\" height=\"24px\"viewBox=\"0 0 24 24\"\n",
              "     width=\"24px\">\n",
              "    <g>\n",
              "        <path d=\"M19 3H5c-1.1 0-2 .9-2 2v14c0 1.1.9 2 2 2h14c1.1 0 2-.9 2-2V5c0-1.1-.9-2-2-2zM9 17H7v-7h2v7zm4 0h-2V7h2v10zm4 0h-2v-4h2v4z\"/>\n",
              "    </g>\n",
              "</svg>\n",
              "  </button>\n",
              "\n",
              "<style>\n",
              "  .colab-df-quickchart {\n",
              "      --bg-color: #E8F0FE;\n",
              "      --fill-color: #1967D2;\n",
              "      --hover-bg-color: #E2EBFA;\n",
              "      --hover-fill-color: #174EA6;\n",
              "      --disabled-fill-color: #AAA;\n",
              "      --disabled-bg-color: #DDD;\n",
              "  }\n",
              "\n",
              "  [theme=dark] .colab-df-quickchart {\n",
              "      --bg-color: #3B4455;\n",
              "      --fill-color: #D2E3FC;\n",
              "      --hover-bg-color: #434B5C;\n",
              "      --hover-fill-color: #FFFFFF;\n",
              "      --disabled-bg-color: #3B4455;\n",
              "      --disabled-fill-color: #666;\n",
              "  }\n",
              "\n",
              "  .colab-df-quickchart {\n",
              "    background-color: var(--bg-color);\n",
              "    border: none;\n",
              "    border-radius: 50%;\n",
              "    cursor: pointer;\n",
              "    display: none;\n",
              "    fill: var(--fill-color);\n",
              "    height: 32px;\n",
              "    padding: 0;\n",
              "    width: 32px;\n",
              "  }\n",
              "\n",
              "  .colab-df-quickchart:hover {\n",
              "    background-color: var(--hover-bg-color);\n",
              "    box-shadow: 0 1px 2px rgba(60, 64, 67, 0.3), 0 1px 3px 1px rgba(60, 64, 67, 0.15);\n",
              "    fill: var(--button-hover-fill-color);\n",
              "  }\n",
              "\n",
              "  .colab-df-quickchart-complete:disabled,\n",
              "  .colab-df-quickchart-complete:disabled:hover {\n",
              "    background-color: var(--disabled-bg-color);\n",
              "    fill: var(--disabled-fill-color);\n",
              "    box-shadow: none;\n",
              "  }\n",
              "\n",
              "  .colab-df-spinner {\n",
              "    border: 2px solid var(--fill-color);\n",
              "    border-color: transparent;\n",
              "    border-bottom-color: var(--fill-color);\n",
              "    animation:\n",
              "      spin 1s steps(1) infinite;\n",
              "  }\n",
              "\n",
              "  @keyframes spin {\n",
              "    0% {\n",
              "      border-color: transparent;\n",
              "      border-bottom-color: var(--fill-color);\n",
              "      border-left-color: var(--fill-color);\n",
              "    }\n",
              "    20% {\n",
              "      border-color: transparent;\n",
              "      border-left-color: var(--fill-color);\n",
              "      border-top-color: var(--fill-color);\n",
              "    }\n",
              "    30% {\n",
              "      border-color: transparent;\n",
              "      border-left-color: var(--fill-color);\n",
              "      border-top-color: var(--fill-color);\n",
              "      border-right-color: var(--fill-color);\n",
              "    }\n",
              "    40% {\n",
              "      border-color: transparent;\n",
              "      border-right-color: var(--fill-color);\n",
              "      border-top-color: var(--fill-color);\n",
              "    }\n",
              "    60% {\n",
              "      border-color: transparent;\n",
              "      border-right-color: var(--fill-color);\n",
              "    }\n",
              "    80% {\n",
              "      border-color: transparent;\n",
              "      border-right-color: var(--fill-color);\n",
              "      border-bottom-color: var(--fill-color);\n",
              "    }\n",
              "    90% {\n",
              "      border-color: transparent;\n",
              "      border-bottom-color: var(--fill-color);\n",
              "    }\n",
              "  }\n",
              "</style>\n",
              "\n",
              "  <script>\n",
              "    async function quickchart(key) {\n",
              "      const quickchartButtonEl =\n",
              "        document.querySelector('#' + key + ' button');\n",
              "      quickchartButtonEl.disabled = true;  // To prevent multiple clicks.\n",
              "      quickchartButtonEl.classList.add('colab-df-spinner');\n",
              "      try {\n",
              "        const charts = await google.colab.kernel.invokeFunction(\n",
              "            'suggestCharts', [key], {});\n",
              "      } catch (error) {\n",
              "        console.error('Error during call to suggestCharts:', error);\n",
              "      }\n",
              "      quickchartButtonEl.classList.remove('colab-df-spinner');\n",
              "      quickchartButtonEl.classList.add('colab-df-quickchart-complete');\n",
              "    }\n",
              "    (() => {\n",
              "      let quickchartButtonEl =\n",
              "        document.querySelector('#df-cf1a0e99-00f9-4859-bb33-8d4a7961207b button');\n",
              "      quickchartButtonEl.style.display =\n",
              "        google.colab.kernel.accessAllowed ? 'block' : 'none';\n",
              "    })();\n",
              "  </script>\n",
              "</div>\n",
              "\n",
              "  <div id=\"id_040f1093-0e52-4c6f-89c2-cb0670f287b6\">\n",
              "    <style>\n",
              "      .colab-df-generate {\n",
              "        background-color: #E8F0FE;\n",
              "        border: none;\n",
              "        border-radius: 50%;\n",
              "        cursor: pointer;\n",
              "        display: none;\n",
              "        fill: #1967D2;\n",
              "        height: 32px;\n",
              "        padding: 0 0 0 0;\n",
              "        width: 32px;\n",
              "      }\n",
              "\n",
              "      .colab-df-generate:hover {\n",
              "        background-color: #E2EBFA;\n",
              "        box-shadow: 0px 1px 2px rgba(60, 64, 67, 0.3), 0px 1px 3px 1px rgba(60, 64, 67, 0.15);\n",
              "        fill: #174EA6;\n",
              "      }\n",
              "\n",
              "      [theme=dark] .colab-df-generate {\n",
              "        background-color: #3B4455;\n",
              "        fill: #D2E3FC;\n",
              "      }\n",
              "\n",
              "      [theme=dark] .colab-df-generate:hover {\n",
              "        background-color: #434B5C;\n",
              "        box-shadow: 0px 1px 3px 1px rgba(0, 0, 0, 0.15);\n",
              "        filter: drop-shadow(0px 1px 2px rgba(0, 0, 0, 0.3));\n",
              "        fill: #FFFFFF;\n",
              "      }\n",
              "    </style>\n",
              "    <button class=\"colab-df-generate\" onclick=\"generateWithVariable('df')\"\n",
              "            title=\"Generate code using this dataframe.\"\n",
              "            style=\"display:none;\">\n",
              "\n",
              "  <svg xmlns=\"http://www.w3.org/2000/svg\" height=\"24px\"viewBox=\"0 0 24 24\"\n",
              "       width=\"24px\">\n",
              "    <path d=\"M7,19H8.4L18.45,9,17,7.55,7,17.6ZM5,21V16.75L18.45,3.32a2,2,0,0,1,2.83,0l1.4,1.43a1.91,1.91,0,0,1,.58,1.4,1.91,1.91,0,0,1-.58,1.4L9.25,21ZM18.45,9,17,7.55Zm-12,3A5.31,5.31,0,0,0,4.9,8.1,5.31,5.31,0,0,0,1,6.5,5.31,5.31,0,0,0,4.9,4.9,5.31,5.31,0,0,0,6.5,1,5.31,5.31,0,0,0,8.1,4.9,5.31,5.31,0,0,0,12,6.5,5.46,5.46,0,0,0,6.5,12Z\"/>\n",
              "  </svg>\n",
              "    </button>\n",
              "    <script>\n",
              "      (() => {\n",
              "      const buttonEl =\n",
              "        document.querySelector('#id_040f1093-0e52-4c6f-89c2-cb0670f287b6 button.colab-df-generate');\n",
              "      buttonEl.style.display =\n",
              "        google.colab.kernel.accessAllowed ? 'block' : 'none';\n",
              "\n",
              "      buttonEl.onclick = () => {\n",
              "        google.colab.notebook.generateWithVariable('df');\n",
              "      }\n",
              "      })();\n",
              "    </script>\n",
              "  </div>\n",
              "\n",
              "    </div>\n",
              "  </div>\n"
            ]
          },
          "metadata": {},
          "execution_count": 262
        }
      ]
    },
    {
      "cell_type": "code",
      "source": [
        "df_np=df.to_numpy()\n",
        "df_np.shape"
      ],
      "metadata": {
        "colab": {
          "base_uri": "https://localhost:8080/"
        },
        "id": "d8_qzQbK1o9E",
        "outputId": "2f963ffa-63c3-4951-f9ee-553dacd9910f"
      },
      "execution_count": null,
      "outputs": [
        {
          "output_type": "execute_result",
          "data": {
            "text/plain": [
              "(50000, 4)"
            ]
          },
          "metadata": {},
          "execution_count": 263
        }
      ]
    },
    {
      "cell_type": "code",
      "source": [
        "X,y=df_np[:,1:],df_np[:,0:1]\n",
        "X.shape,y.shape"
      ],
      "metadata": {
        "colab": {
          "base_uri": "https://localhost:8080/"
        },
        "id": "Xy2uiNiu1uNa",
        "outputId": "95dfd812-1a35-4e70-a5a5-d8deab5e4e0c"
      },
      "execution_count": null,
      "outputs": [
        {
          "output_type": "execute_result",
          "data": {
            "text/plain": [
              "((50000, 3), (50000, 1))"
            ]
          },
          "metadata": {},
          "execution_count": 264
        }
      ]
    },
    {
      "cell_type": "code",
      "source": [
        "X"
      ],
      "metadata": {
        "colab": {
          "base_uri": "https://localhost:8080/"
        },
        "id": "M6mxJmJFChTn",
        "outputId": "b1b7c79c-4d03-4978-b807-c464534cf2ea"
      },
      "execution_count": null,
      "outputs": [
        {
          "output_type": "execute_result",
          "data": {
            "text/plain": [
              "array([[  5.22184894,   7.29511056,  95.71684555],\n",
              "       [ -5.10628445,   4.22008546,  -6.17236   ],\n",
              "       [ -4.21805344,  -7.57382297, -39.49388399],\n",
              "       ...,\n",
              "       [ 29.85789417,   1.42297302,  75.62050543],\n",
              "       [ 10.79314567,   1.21597176,  34.43776063],\n",
              "       [ 12.17170222,  -0.79875632,  60.24598982]])"
            ]
          },
          "metadata": {},
          "execution_count": 265
        }
      ]
    },
    {
      "cell_type": "code",
      "source": [
        "y"
      ],
      "metadata": {
        "colab": {
          "base_uri": "https://localhost:8080/"
        },
        "id": "jY-YW3-mCm2T",
        "outputId": "178d0dee-478d-4a0d-b094-ad1bdac9d801"
      },
      "execution_count": null,
      "outputs": [
        {
          "output_type": "execute_result",
          "data": {
            "text/plain": [
              "array([[4.13152828e+06],\n",
              "       [3.17297454e-01],\n",
              "       [4.67642163e+04],\n",
              "       ...,\n",
              "       [3.83560105e+06],\n",
              "       [2.58031768e+04],\n",
              "       [3.46817108e+05]])"
            ]
          },
          "metadata": {},
          "execution_count": 266
        }
      ]
    },
    {
      "cell_type": "code",
      "source": [
        "def train_test_split(X,y,test_ratio=0.2,random_seed=None):\n",
        "  if random_seed is not None:\n",
        "    np.random.seed(random_seed)\n",
        "  #Shuffle indices\n",
        "  indices=np.arange(X.shape[0])\n",
        "  np.random.shuffle(indices)\n",
        "  #Calculate the number of samples for testing\n",
        "  test_size=int(X.shape[0]*test_ratio)\n",
        "  #Split the data\n",
        "  test_indices=indices[:test_size]\n",
        "  train_indices=indices[test_size:]\n",
        "  X_train,X_test=X[train_indices],X[test_indices]\n",
        "  y_train,y_test=y[train_indices],y[test_indices]\n",
        "  return X_train,X_test,y_train,y_test"
      ],
      "metadata": {
        "id": "8eIKfKi0N54E"
      },
      "execution_count": null,
      "outputs": []
    },
    {
      "cell_type": "code",
      "source": [
        "#Split the data into training and testing datasets\n",
        "X_train,X_test,y_train,y_test=train_test_split(X,y,test_ratio=0.2,random_seed=42)"
      ],
      "metadata": {
        "id": "fQ9RimOtOtzd"
      },
      "execution_count": null,
      "outputs": []
    },
    {
      "cell_type": "code",
      "source": [
        "X_train.shape,X_test.shape"
      ],
      "metadata": {
        "colab": {
          "base_uri": "https://localhost:8080/"
        },
        "id": "9OYdqdH_QleW",
        "outputId": "00703fb8-42da-44bd-cb7a-d00eab6b1358"
      },
      "execution_count": null,
      "outputs": [
        {
          "output_type": "execute_result",
          "data": {
            "text/plain": [
              "((40000, 3), (10000, 3))"
            ]
          },
          "metadata": {},
          "execution_count": 293
        }
      ]
    },
    {
      "cell_type": "code",
      "source": [
        "def normalize_features(X):\n",
        "    mean = np.mean(X, axis=0)\n",
        "    std = np.std(X, axis=0)\n",
        "    X_normalized = (X - mean) / std\n",
        "    return X_normalized, mean, std"
      ],
      "metadata": {
        "id": "5NjsnjYT7wjr"
      },
      "execution_count": null,
      "outputs": []
    },
    {
      "cell_type": "code",
      "source": [
        "X_normalized, mean, std = normalize_features(X_train)"
      ],
      "metadata": {
        "id": "ZL4cS_G18DAT"
      },
      "execution_count": null,
      "outputs": []
    },
    {
      "cell_type": "code",
      "source": [
        "#Define the degree of the polynomial\n",
        "degree=4"
      ],
      "metadata": {
        "id": "-jyMhTJ62ASm"
      },
      "execution_count": null,
      "outputs": []
    },
    {
      "cell_type": "code",
      "source": [
        "#create polynomial features\n",
        "X_poly = generate_polynomial_features(X_normalized, degree)"
      ],
      "metadata": {
        "id": "3GOpMg8M2OxV"
      },
      "execution_count": null,
      "outputs": []
    },
    {
      "cell_type": "code",
      "source": [
        "#perform multiple variable polynomial regression using gradient descent\n",
        "alpha=0.0001 #Learning rate\n",
        "num_iterations=1000\n",
        "theta=multiple_variable_polynomial_regresssion(X_poly,y_train,degree,alpha,num_iterations)"
      ],
      "metadata": {
        "id": "oqm60BRW2UUx",
        "colab": {
          "base_uri": "https://localhost:8080/"
        },
        "outputId": "59dbd368-ae88-44e5-de7a-708ab7826fba"
      },
      "execution_count": null,
      "outputs": [
        {
          "output_type": "stream",
          "name": "stdout",
          "text": [
            "Iteration 0, Error: 59078016510125.29\n",
            "Iteration 100, Error: 16122357210160.525\n",
            "Iteration 200, Error: 12085193625499.93\n",
            "Iteration 300, Error: 11329927220212.516\n",
            "Iteration 400, Error: 11125558191907.678\n",
            "Iteration 500, Error: 11025412120979.02\n",
            "Iteration 600, Error: 10948679882465.43\n",
            "Iteration 700, Error: 10880033841635.082\n",
            "Iteration 800, Error: 10816226977442.662\n",
            "Iteration 900, Error: 10756317609035.717\n"
          ]
        }
      ]
    },
    {
      "cell_type": "code",
      "source": [
        "#Print coefficients\n",
        "print(\"Coefficients:\",theta)"
      ],
      "metadata": {
        "colab": {
          "base_uri": "https://localhost:8080/"
        },
        "id": "_wC5q41t2X3F",
        "outputId": "69782c75-7c75-4d8d-cb47-b85f095be5ff"
      },
      "execution_count": null,
      "outputs": [
        {
          "output_type": "stream",
          "name": "stdout",
          "text": [
            "Coefficients: [[-4.67136992e+04]\n",
            " [-2.43145607e+03]\n",
            " [ 1.34757893e+04]\n",
            " [ 5.05808581e+04]\n",
            " [-2.43145607e+03]\n",
            " [-4.28498062e+02]\n",
            " [-2.43145607e+03]\n",
            " [ 2.85005835e+03]\n",
            " [-4.28498062e+02]\n",
            " [ 2.26338560e+04]\n",
            " [-4.28498062e+02]\n",
            " [ 2.85005835e+03]\n",
            " [ 2.85005835e+03]\n",
            " [-1.24565675e+04]\n",
            " [ 2.32016231e+03]\n",
            " [ 1.88571673e+03]\n",
            " [-1.52205793e+03]\n",
            " [-1.07567394e+03]\n",
            " [ 5.43209945e+03]\n",
            " [-1.24018961e+04]\n",
            " [-2.83888222e+04]\n",
            " [-8.73831617e+04]\n",
            " [-3.92317792e+02]\n",
            " [-5.37888735e+03]\n",
            " [-7.26564066e+04]\n",
            " [ 6.58783993e+03]\n",
            " [ 1.01311755e+04]\n",
            " [ 3.73915506e+05]\n",
            " [-4.40132632e+03]\n",
            " [-4.33478469e+03]\n",
            " [ 3.25580182e+04]\n",
            " [-5.47288860e+04]\n",
            " [-2.79008187e+03]\n",
            " [ 4.42578269e+04]\n",
            " [-1.55791827e+04]\n",
            " [ 1.24362494e+04]\n",
            " [-4.26059826e+04]\n",
            " [-5.92323256e+02]\n",
            " [ 1.40100250e+03]\n",
            " [ 3.00441766e+04]\n",
            " [ 3.35105754e+03]\n",
            " [ 7.37759127e+02]\n",
            " [ 1.31780207e+04]\n",
            " [-9.59033104e+03]\n",
            " [-5.34674170e+03]\n",
            " [ 6.09592315e+02]\n",
            " [ 4.25572038e+02]\n",
            " [ 4.04056147e+03]\n",
            " [ 7.85055035e+05]]\n"
          ]
        }
      ]
    },
    {
      "cell_type": "code",
      "source": [
        "y_train"
      ],
      "metadata": {
        "colab": {
          "base_uri": "https://localhost:8080/"
        },
        "id": "pxeCT-b34y9m",
        "outputId": "dcc98218-ac1b-4757-81cc-baeb797d63ad"
      },
      "execution_count": null,
      "outputs": [
        {
          "output_type": "execute_result",
          "data": {
            "text/plain": [
              "array([[1.72884503e+04],\n",
              "       [2.79985499e+03],\n",
              "       [7.00879942e+04],\n",
              "       ...,\n",
              "       [6.99938671e+06],\n",
              "       [1.29964362e+00],\n",
              "       [1.31345652e+06]])"
            ]
          },
          "metadata": {},
          "execution_count": 300
        }
      ]
    },
    {
      "cell_type": "code",
      "source": [
        "#Plot the true values vs predicted values\n",
        "y_pred=X_poly @theta\n",
        "plt.scatter(y_train,y_pred)\n",
        "plt.xlabel('True values')\n",
        "plt.ylabel('Predictions')\n",
        "plt.title('True values vs Predictions')\n",
        "plt.show()"
      ],
      "metadata": {
        "colab": {
          "base_uri": "https://localhost:8080/",
          "height": 472
        },
        "id": "MQgy97du2fy_",
        "outputId": "a9734280-0612-4fcb-8464-74e4610a9f5d"
      },
      "execution_count": null,
      "outputs": [
        {
          "output_type": "display_data",
          "data": {
            "text/plain": [
              "<Figure size 640x480 with 1 Axes>"
            ],
            "image/png": "[encoded data removed]"
          },
          "metadata": {}
        }
      ]
    },
    {
      "cell_type": "code",
      "source": [
        "#Compute R-squared\n",
        "r2=r_sqaured(y_train,y_pred)\n",
        "print(\"R2 Score:\",r2)"
      ],
      "metadata": {
        "colab": {
          "base_uri": "https://localhost:8080/"
        },
        "id": "qkqHEdsQNo8-",
        "outputId": "f536243a-9fd8-4336-ce3a-f0d749176f02"
      },
      "execution_count": null,
      "outputs": [
        {
          "output_type": "stream",
          "name": "stdout",
          "text": [
            "R2 Score: 0.814010224089485\n"
          ]
        }
      ]
    },
    {
      "cell_type": "code",
      "source": [
        "#Making predictions on the test data\n",
        "X_normalized_test, mean, std = normalize_features(X_test)"
      ],
      "metadata": {
        "id": "qwX-ADpuRNn3"
      },
      "execution_count": null,
      "outputs": []
    },
    {
      "cell_type": "code",
      "source": [
        "#create polynomial features\n",
        "X_poly_test = generate_polynomial_features(X_normalized_test, degree)"
      ],
      "metadata": {
        "id": "wIXs4ODVRj2b"
      },
      "execution_count": null,
      "outputs": []
    },
    {
      "cell_type": "code",
      "source": [
        "#perform multiple variable polynomial regression using gradient descent\n",
        "alpha=0.0001 #Learning rate\n",
        "num_iterations=1000\n",
        "theta=multiple_variable_polynomial_regresssion(X_poly_test,y_test,degree,alpha,num_iterations)"
      ],
      "metadata": {
        "colab": {
          "base_uri": "https://localhost:8080/"
        },
        "id": "0sD601eGRrJ3",
        "outputId": "ff8fe557-ff5c-430c-fdd9-46ca77853381"
      },
      "execution_count": null,
      "outputs": [
        {
          "output_type": "stream",
          "name": "stdout",
          "text": [
            "Iteration 0, Error: 96141255628943.61\n",
            "Iteration 100, Error: 28089367792127.848\n",
            "Iteration 200, Error: 22203754499194.113\n",
            "Iteration 300, Error: 20748844357948.344\n",
            "Iteration 400, Error: 20142643438628.363\n",
            "Iteration 500, Error: 19739231489710.637\n",
            "Iteration 600, Error: 19407391984621.62\n",
            "Iteration 700, Error: 19115373293304.027\n",
            "Iteration 800, Error: 18852565564899.125\n",
            "Iteration 900, Error: 18613673199371.11\n"
          ]
        }
      ]
    },
    {
      "cell_type": "code",
      "source": [
        "y_pred_test=X_poly_test @theta"
      ],
      "metadata": {
        "id": "kl4uovTqR_ti"
      },
      "execution_count": null,
      "outputs": []
    },
    {
      "cell_type": "code",
      "source": [
        "#Compute R-squared for the test value\n",
        "r2=r_sqaured(y_test,y_pred_test)\n",
        "print(\"R2 Score:\",r2)"
      ],
      "metadata": {
        "colab": {
          "base_uri": "https://localhost:8080/"
        },
        "id": "aDTovdleRt6f",
        "outputId": "8e24b86a-12e6-4fac-f9bb-9b3342b469aa"
      },
      "execution_count": null,
      "outputs": [
        {
          "output_type": "stream",
          "name": "stdout",
          "text": [
            "R2 Score: 0.8052817171547013\n"
          ]
        }
      ]
    }
  ]
}